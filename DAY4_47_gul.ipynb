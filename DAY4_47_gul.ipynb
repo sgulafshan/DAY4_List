{
 "cells": [
  {
   "cell_type": "code",
   "execution_count": null,
   "id": "0afecbc7",
   "metadata": {},
   "outputs": [],
   "source": [
    "LIST DATATYPE "
   ]
  },
  {
   "cell_type": "code",
   "execution_count": 5,
   "id": "d124ad9e",
   "metadata": {},
   "outputs": [
    {
     "name": "stdout",
     "output_type": "stream",
     "text": [
      "['arun', 'naveed', 'kiran', 'farhana', 'ashwini', 'gulafshan']\n"
     ]
    }
   ],
   "source": [
    "students = ['arun','naveed','kiran','farhana','ashwini','gulafshan']\n",
    "print(students)"
   ]
  },
  {
   "cell_type": "code",
   "execution_count": null,
   "id": "ba8336f1",
   "metadata": {},
   "outputs": [],
   "source": [
    "Type"
   ]
  },
  {
   "cell_type": "code",
   "execution_count": 6,
   "id": "988c34c5",
   "metadata": {},
   "outputs": [
    {
     "data": {
      "text/plain": [
       "list"
      ]
     },
     "execution_count": 6,
     "metadata": {},
     "output_type": "execute_result"
    }
   ],
   "source": [
    "type(students)"
   ]
  },
  {
   "cell_type": "code",
   "execution_count": null,
   "id": "a43e0b29",
   "metadata": {},
   "outputs": [],
   "source": [
    "# access naveed name in the output"
   ]
  },
  {
   "cell_type": "code",
   "execution_count": 7,
   "id": "260c3206",
   "metadata": {},
   "outputs": [
    {
     "name": "stdout",
     "output_type": "stream",
     "text": [
      "naveed\n"
     ]
    }
   ],
   "source": [
    "print(students[1])"
   ]
  },
  {
   "cell_type": "code",
   "execution_count": null,
   "id": "18305395",
   "metadata": {},
   "outputs": [],
   "source": [
    "#name in correct format"
   ]
  },
  {
   "cell_type": "code",
   "execution_count": 8,
   "id": "8b1bc37a",
   "metadata": {},
   "outputs": [
    {
     "name": "stdout",
     "output_type": "stream",
     "text": [
      "Naveed\n"
     ]
    }
   ],
   "source": [
    "print(students[1].title())"
   ]
  },
  {
   "cell_type": "code",
   "execution_count": 9,
   "id": "c5500e3f",
   "metadata": {},
   "outputs": [
    {
     "name": "stdout",
     "output_type": "stream",
     "text": [
      "ashwini\n"
     ]
    }
   ],
   "source": [
    "print(students[4])"
   ]
  },
  {
   "cell_type": "code",
   "execution_count": 10,
   "id": "3cf4cdfa",
   "metadata": {},
   "outputs": [
    {
     "name": "stdout",
     "output_type": "stream",
     "text": [
      "Ashwini\n"
     ]
    }
   ],
   "source": [
    "print(students[4].title())"
   ]
  },
  {
   "cell_type": "code",
   "execution_count": null,
   "id": "c33e111e",
   "metadata": {},
   "outputs": [],
   "source": []
  },
  {
   "cell_type": "code",
   "execution_count": null,
   "id": "5f1fa73a",
   "metadata": {},
   "outputs": [],
   "source": [
    "# add new element to the list"
   ]
  },
  {
   "cell_type": "code",
   "execution_count": 21,
   "id": "3c2e8612",
   "metadata": {},
   "outputs": [
    {
     "name": "stdout",
     "output_type": "stream",
     "text": [
      "['Ram', 'naveed', 'zowraiz', 'farhana', 'ashwini', 'gulafshan', 'prasad', 'prasad']\n"
     ]
    }
   ],
   "source": [
    "students.append('prasad')\n",
    "print(students)"
   ]
  },
  {
   "cell_type": "code",
   "execution_count": null,
   "id": "5b3b5750",
   "metadata": {},
   "outputs": [],
   "source": [
    "# adding element to custom index"
   ]
  },
  {
   "cell_type": "code",
   "execution_count": 13,
   "id": "eccde6e2",
   "metadata": {},
   "outputs": [
    {
     "name": "stdout",
     "output_type": "stream",
     "text": [
      "['arun', 'naveed', 'zowraiz', 'kiran', 'farhana', 'ashwini', 'gulafshan', 'prasad', 'prasad']\n"
     ]
    }
   ],
   "source": [
    "students.insert(2,'zowraiz')\n",
    "print(students)"
   ]
  },
  {
   "cell_type": "code",
   "execution_count": null,
   "id": "84c97582",
   "metadata": {},
   "outputs": [],
   "source": [
    "# Modifying elements in the list"
   ]
  },
  {
   "cell_type": "code",
   "execution_count": 14,
   "id": "acea2321",
   "metadata": {},
   "outputs": [
    {
     "name": "stdout",
     "output_type": "stream",
     "text": [
      "['Ram', 'naveed', 'zowraiz', 'kiran', 'farhana', 'ashwini', 'gulafshan', 'prasad', 'prasad']\n"
     ]
    }
   ],
   "source": [
    "students[0] = 'Ram'\n",
    "print(students)"
   ]
  },
  {
   "cell_type": "code",
   "execution_count": null,
   "id": "6a7fec07",
   "metadata": {},
   "outputs": [],
   "source": [
    "# delete items permanently"
   ]
  },
  {
   "cell_type": "code",
   "execution_count": 19,
   "id": "c936b357",
   "metadata": {},
   "outputs": [
    {
     "name": "stdout",
     "output_type": "stream",
     "text": [
      "['Ram', 'naveed', 'zowraiz', 'farhana', 'ashwini', 'gulafshan', 'prasad', 'prasad']\n"
     ]
    }
   ],
   "source": [
    "del students[3]\n",
    "print(students)"
   ]
  },
  {
   "cell_type": "code",
   "execution_count": null,
   "id": "fb3f467d",
   "metadata": {},
   "outputs": [],
   "source": [
    "# delete items temporarily"
   ]
  },
  {
   "cell_type": "code",
   "execution_count": 20,
   "id": "176c5ce3",
   "metadata": {},
   "outputs": [
    {
     "name": "stdout",
     "output_type": "stream",
     "text": [
      "['Ram', 'naveed', 'zowraiz', 'farhana', 'ashwini', 'gulafshan', 'prasad']\n"
     ]
    }
   ],
   "source": [
    "x = students.pop()\n",
    "print(students)"
   ]
  },
  {
   "cell_type": "code",
   "execution_count": 24,
   "id": "097278f2",
   "metadata": {},
   "outputs": [
    {
     "name": "stdout",
     "output_type": "stream",
     "text": [
      "['Ram', 'naveed', 'zowraiz', 'farhana', 'ashwini', 'gulafshan']\n"
     ]
    }
   ],
   "source": [
    "x = students.pop()\n",
    "print(students)"
   ]
  },
  {
   "cell_type": "code",
   "execution_count": 25,
   "id": "698ad18f",
   "metadata": {},
   "outputs": [
    {
     "name": "stdout",
     "output_type": "stream",
     "text": [
      "prasad\n"
     ]
    }
   ],
   "source": [
    "print(x)"
   ]
  },
  {
   "cell_type": "code",
   "execution_count": null,
   "id": "33d520cb",
   "metadata": {},
   "outputs": [],
   "source": []
  }
 ],
 "metadata": {
  "kernelspec": {
   "display_name": "Python 3",
   "language": "python",
   "name": "python3"
  },
  "language_info": {
   "codemirror_mode": {
    "name": "ipython",
    "version": 3
   },
   "file_extension": ".py",
   "mimetype": "text/x-python",
   "name": "python",
   "nbconvert_exporter": "python",
   "pygments_lexer": "ipython3",
   "version": "3.8.8"
  }
 },
 "nbformat": 4,
 "nbformat_minor": 5
}
